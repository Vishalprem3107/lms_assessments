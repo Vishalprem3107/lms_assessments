{
 "cells": [
  {
   "cell_type": "markdown",
   "id": "e5dc2f2c",
   "metadata": {},
   "source": [
    "Write a program in Jupyter Notebook to declare variables of different data types (integer, float, string, and boolean). Print each variable and its type."
   ]
  },
  {
   "cell_type": "code",
   "execution_count": 1,
   "id": "e689e70a",
   "metadata": {},
   "outputs": [
    {
     "name": "stdout",
     "output_type": "stream",
     "text": [
      "Integer variable: 10 Type: <class 'int'>\n",
      "Float variable: 3.14 Type: <class 'float'>\n",
      "String variable: Hello, world! Type: <class 'str'>\n",
      "Boolean variable: True Type: <class 'bool'>\n"
     ]
    }
   ],
   "source": [
    "integer_var = 10\n",
    "float_var = 3.14\n",
    "string_var = \"Hello, world!\"\n",
    "boolean_var = True\n",
    "\n",
    "print(\"Integer variable:\", integer_var, \"Type:\", type(integer_var))\n",
    "print(\"Float variable:\", float_var, \"Type:\", type(float_var))\n",
    "print(\"String variable:\", string_var, \"Type:\", type(string_var))\n",
    "print(\"Boolean variable:\", boolean_var, \"Type:\", type(boolean_var))"
   ]
  }
 ],
 "metadata": {
  "kernelspec": {
   "display_name": "Python 3 (ipykernel)",
   "language": "python",
   "name": "python3"
  },
  "language_info": {
   "codemirror_mode": {
    "name": "ipython",
    "version": 3
   },
   "file_extension": ".py",
   "mimetype": "text/x-python",
   "name": "python",
   "nbconvert_exporter": "python",
   "pygments_lexer": "ipython3",
   "version": "3.9.13"
  }
 },
 "nbformat": 4,
 "nbformat_minor": 5
}
